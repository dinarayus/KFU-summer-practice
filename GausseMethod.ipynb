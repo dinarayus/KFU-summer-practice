{
  "nbformat": 4,
  "nbformat_minor": 0,
  "metadata": {
    "colab": {
      "provenance": []
    },
    "kernelspec": {
      "name": "python3",
      "display_name": "Python 3"
    },
    "language_info": {
      "name": "python"
    }
  },
  "cells": [
    {
      "cell_type": "markdown",
      "source": [
        "Задание: написать программу на Python для поиска решения системы линейных алгебраических\n",
        "уравнений\n",
        "\n",
        "методом Гаусса. <br>\n",
        "// К программному коду для этого задания предъявляются следующие требования:<br>\n",
        "1) именование переменных должно быть осмысленным; <br>\n",
        "2) в коде программы должны присутствовать комментарии; <br>\n",
        "3) код должен производить форматированный вывод результатов; <br>\n",
        "4) код должен запрашивать пользователя входные данные (размерность, матрицы А и В,\n",
        "точность); <br>\n",
        "5) код должен иметь базовый уровень проверки входных данных. <br>"
      ],
      "metadata": {
        "id": "s7pXR12-ng1l"
      }
    },
    {
      "cell_type": "markdown",
      "source": [
        "---"
      ],
      "metadata": {
        "id": "u4sJdqaEn0q-"
      }
    },
    {
      "cell_type": "code",
      "source": [
        "import numpy as np\n",
        "\n",
        "def gauss_elimination(matrix, vector, precision):\n",
        "    n = len(vector)\n",
        "    # Прямой ход метода Гаусса\n",
        "    for i in range(n):\n",
        "        # Проверка на нулевой главный элемент\n",
        "        if abs(matrix[i][i]) < precision:\n",
        "            for j in range(i + 1, n):\n",
        "                if abs(matrix[j][i]) > abs(matrix[i][i]):\n",
        "                    matrix[[i, j]] = matrix[[j, i]]\n",
        "                    vector[i], vector[j] = vector[j], vector[i]\n",
        "                    break\n",
        "\n",
        "        # Приведение главного элемента к единице\n",
        "        pivot = matrix[i][i]\n",
        "        if abs(pivot) < precision:\n",
        "            raise ValueError(\"Матрица вырождена или почти вырождена.\")\n",
        "\n",
        "        for j in range(i, n):\n",
        "            matrix[i][j] /= pivot\n",
        "        vector[i] /= pivot\n",
        "\n",
        "        # Обнуление элементов ниже главного\n",
        "        for j in range(i + 1, n):\n",
        "            factor = matrix[j][i]\n",
        "            for k in range(i, n):\n",
        "                matrix[j][k] -= factor * matrix[i][k]\n",
        "            vector[j] -= factor * vector[i]\n",
        "\n",
        "    # Обратный ход метода Гаусса\n",
        "    x = np.zeros(n)\n",
        "    for i in range(n - 1, -1, -1):\n",
        "        x[i] = vector[i]\n",
        "        for j in range(i + 1, n):\n",
        "            x[i] -= matrix[i][j] * x[j]\n",
        "\n",
        "    return x\n",
        "\n",
        "def main():\n",
        "    try:\n",
        "        # Узнать параметры ввода данных:\n",
        "        input_type = input('Хотите ввести данные вручную или из файла?\\n из Файла (F),\\tКонсоль (С)')\n",
        "\n",
        "        if input_type.lower() == 'f':\n",
        "            \"\"\"\n",
        "                Ввод данных из файла происходит в следующем формате:\n",
        "\n",
        "                в первой строке вводится размерность системы N,\n",
        "                следующие N строк содержат элементы матрицы А,\n",
        "                следующая строка содержат элементы вектора B длины N.\n",
        "\n",
        "            \"\"\"\n",
        "            # Путь к файлу\n",
        "            file_path = input(\"Введите путь к файлу: \")\n",
        "\n",
        "            with open(file_path, 'r') as file:\n",
        "                # Чтение размерности системы\n",
        "                n = int(file.readline())\n",
        "\n",
        "                # Чтени матрицы А\n",
        "                A = np.zeros()\n",
        "                for i in range(n):\n",
        "                    row = file.readline().split()\n",
        "                    if len(row) != n:\n",
        "                        raise ValueError(f\"В строке {i + 1} должно быть {n} элементов.\")\n",
        "                    A[i] = list(map(float, row))\n",
        "\n",
        "                # Чтение вектора B\n",
        "                B = np.zeros(n)\n",
        "                row = file.readline().split()\n",
        "                if len(row) != n:\n",
        "                    raise ValueError(f\"В векторе B должно быть {n} элементов.\")\n",
        "                B = list(map(float, row))\n",
        "\n",
        "\n",
        "        elif input_type.lower() == 'с':\n",
        "            \"\"\"\n",
        "                Ввод данных с консоли происходит в следующем формате:\n",
        "\n",
        "                в первой строке вводится размерность системы N,\n",
        "                следующие N строк содержат элементы матрицы А,\n",
        "                следующая строка содержат элементы вектора B длины N.\n",
        "\n",
        "            \"\"\"\n",
        "            # Ввод размерности системы\n",
        "            n = int(input(\"Введите размерность системы (n): \"))\n",
        "            if n <= 0:\n",
        "                raise ValueError(\"Размерность должна быть положительным числом.\")\n",
        "\n",
        "            # Ввод матрицы коэффициентов A\n",
        "            print(\"Введите элементы матрицы A построчно:\")\n",
        "            A = np.zeros((n, n))\n",
        "            for i in range(n):\n",
        "                row = input(f\"Строка {i + 1}: \").split()\n",
        "                if len(row) != n:\n",
        "                    raise ValueError(f\"В строке {i + 1} должно быть {n} элементов.\")\n",
        "                A[i] = list(map(float, row))\n",
        "\n",
        "            # Ввод вектора свободных членов B\n",
        "            print(\"Введите элементы вектора B:\")\n",
        "            B = np.zeros(n)\n",
        "            row = input(\"Вектор B: \").split()\n",
        "            if len(row) != n:\n",
        "                raise ValueError(f\"В векторе B должно быть {n} элементов.\")\n",
        "            B = list(map(float, row))\n",
        "        else:\n",
        "            raise ValueError(\"Неверный тип ввода.\")\n",
        "\n",
        "        # Ввод точности\n",
        "        precision = float(input(\"Введите точность (например, 1e-9): \"))\n",
        "\n",
        "        # Решение системы уравнений методом Гаусса\n",
        "        solution = gauss_elimination(A, B, precision)\n",
        "\n",
        "        # Форматированный вывод результата\n",
        "        print(\"\\nРешение системы:\")\n",
        "        for i in range(n):\n",
        "            print(f\"x{i + 1} = {solution[i]:.6f}\")\n",
        "\n",
        "    except ValueError as e:\n",
        "        print(f\"Ошибка ввода: {e}\")\n",
        "    except Exception as e:\n",
        "        print(f\"Произошла ошибка: {e}\")\n",
        "\n",
        "if __name__ == \"__main__\":\n",
        "    main()"
      ],
      "metadata": {
        "colab": {
          "base_uri": "https://localhost:8080/"
        },
        "id": "kl3OBF14ocRu",
        "outputId": "e6ac9892-15b9-4783-e3e2-8c173121a985"
      },
      "execution_count": 5,
      "outputs": [
        {
          "output_type": "stream",
          "name": "stdout",
          "text": [
            "Хотите ввести данные вручную или из файла?\n",
            " из Файла (F),\tКонсоль (С)с\n",
            "Введите размерность системы (n): 3\n",
            "Введите элементы матрицы A построчно:\n",
            "Строка 1: 1 2 a\n",
            "Ошибка ввода: could not convert string to float: 'a'\n"
          ]
        }
      ]
    },
    {
      "cell_type": "code",
      "source": [],
      "metadata": {
        "id": "mo9gKtMYono9"
      },
      "execution_count": null,
      "outputs": []
    }
  ]
}